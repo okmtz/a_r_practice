{
  "nbformat": 4,
  "nbformat_minor": 0,
  "metadata": {
    "colab": {
      "name": "calc_flowrate.ipynb",
      "provenance": [],
      "collapsed_sections": [],
      "authorship_tag": "ABX9TyMwXybO0MCY5wUJ8ehsstBa",
      "include_colab_link": true
    },
    "kernelspec": {
      "name": "python3",
      "display_name": "Python 3"
    }
  },
  "cells": [
    {
      "cell_type": "markdown",
      "metadata": {
        "id": "view-in-github",
        "colab_type": "text"
      },
      "source": [
        "<a href=\"https://colab.research.google.com/github/souken-b/a_r_practice/blob/master/calc_flowrate.ipynb\" target=\"_parent\"><img src=\"https://colab.research.google.com/assets/colab-badge.svg\" alt=\"Open In Colab\"/></a>"
      ]
    },
    {
      "cell_type": "code",
      "metadata": {
        "id": "JiTRc3Wh2Qwc"
      },
      "source": [
        "import numpy as np\n",
        "from sympy import *\n",
        "import matplotlib.pyplot as plt\n",
        "%matplotlib inline"
      ],
      "execution_count": null,
      "outputs": []
    },
    {
      "cell_type": "markdown",
      "metadata": {
        "id": "c0O5O9gExtH1"
      },
      "source": [
        ""
      ]
    },
    {
      "cell_type": "code",
      "metadata": {
        "id": "ysbd7AXF2a3n"
      },
      "source": [
        "def f(q: 'flow_rate', n_diam: 'nozzle diameter', temp, p_up, p_down, n_ratio: 'nozzle ratio', h_ratio: 'specific heat ratio', flow_flg: 'flow direction flg') -> 'f(q)=aq^3+bq^2+q+d':\n",
        "  # air viscosity rate(Pa・s)\n",
        "  a_v_rate = 18.2 * 1e-6\n",
        "  # air temparature(K)\n",
        "  a_temp = 273 + 25\n",
        "  # sutherland constant\n",
        "  c_suther = 117\n",
        "  # viscosity rate\n",
        "  v_rate = a_v_rate * ((a_temp + c_suther) / (temp + c_suther)) * (temp / a_temp)**(3/2)\n",
        "  # upstream density\n",
        "  if (flow_flg):\n",
        "    dens_up = (p_up * (28.93/1000)) / (8.3144 * temp)\n",
        "  else:\n",
        "    dens_up = 1.225\n",
        "  c_lambda = (4/(pi*n_diam))*(dens_up/v_rate)\n",
        "  # 膨張補正係数\n",
        "  exp_coef = 1-(0.41 + 0.35 * (n_ratio**2))*((p_up - p_down)/(h_ratio * p_up))\n",
        "  H = (exp_coef ** 2) * ((pi*((n_diam / 2)**2)) ** 2) * 2 * (p_up - p_down) / dens_up\n",
        "  # 実験値\n",
        "  if (flow_flg):\n",
        "    # forward flow\n",
        "    A_0 = 0.601\n",
        "    B = 22.7\n",
        "    C = 815\n",
        "    D = 1401\n",
        "  else:\n",
        "    # backward flow\n",
        "    A_0 = 0.626\n",
        "    B = 26.2\n",
        "    C = 1733\n",
        "    D = 2794\n",
        "  \n",
        "  coef_a = c_lambda ** 2\n",
        "  coef_b = c_lambda * (B + C)\n",
        "  coef_c = B * C - (c_lambda ** 2) * (A_0 ** 2) *  H\n",
        "  coef_d = -(c_lambda * (A_0 ** 2) * D * H)\n",
        "  return (coef_a * q ** 3 + coef_b * q ** 2 + coef_c * q +coef_d)\n",
        "\n"
      ],
      "execution_count": null,
      "outputs": []
    },
    {
      "cell_type": "code",
      "metadata": {
        "id": "qxLaPr9C3gWj"
      },
      "source": [
        "def newton_raphson(f, q1):\n",
        "  fq = diff(f, q)\n",
        "  threshold = 1e-6\n",
        "  res = threshold + 1\n",
        "\n",
        "  while res > threshold:\n",
        "    q2 = float(q1 - (f.subs(q, q1) / fq.subs(q, q1)))\n",
        "    res = np.abs(q2 - q1)\n",
        "    q1 = q2\n",
        "  return q2\n"
      ],
      "execution_count": null,
      "outputs": []
    },
    {
      "cell_type": "code",
      "metadata": {
        "id": "dIkMw9LiGJaU"
      },
      "source": [
        "q = Symbol('q')\n",
        "n_diam = 0.0081235\n",
        "temp = 273 + 25\n",
        "p_down = 101325 \n",
        "n_ratio = 0.1022\n",
        "h_ratio = 1.4"
      ],
      "execution_count": null,
      "outputs": []
    },
    {
      "cell_type": "code",
      "metadata": {
        "id": "8X1g2Q9kv0JM"
      },
      "source": [
        "t_forward = np.linspace(0, np.pi, 500)\n",
        "sin_list = np.sin(t_forward)\n",
        "p1_list_in = [(1000*i + 101325 ) for i in sin_list]\n",
        "q1_list_forward = []"
      ],
      "execution_count": null,
      "outputs": []
    },
    {
      "cell_type": "code",
      "metadata": {
        "id": "_ZAFGHUuv04U",
        "colab": {
          "base_uri": "https://localhost:8080/"
        },
        "outputId": "97a34721-c829-44d1-eacb-c832a7ea6abf"
      },
      "source": [
        "for p1 in p1_list_in:\n",
        "  q1 = newton_raphson(f(q, n_diam, temp, p1, p_down, n_ratio, h_ratio, True), q1=0.0009)\n",
        "  q1_list_forward.append(q1)"
      ],
      "execution_count": null,
      "outputs": [
        {
          "output_type": "stream",
          "text": [
            "1.0\n",
            "0.9999816424874781\n",
            "0.999963287983422\n",
            "0.9999449372145116\n",
            "0.9999265909070076\n",
            "0.9999082497867235\n",
            "0.9998899145789971\n",
            "0.9998715860086619\n",
            "0.9998532648000187\n",
            "0.9998349516768075\n",
            "0.9998166473621792\n",
            "0.9997983525786678\n",
            "0.9997800680481614\n",
            "0.9997617944918754\n",
            "0.9997435326303236\n",
            "0.9997252831832906\n",
            "0.9997070468698042\n",
            "0.9996888244081076\n",
            "0.9996706165156314\n",
            "0.9996524239089665\n",
            "0.9996342473038362\n",
            "0.9996160874150691\n",
            "0.9995979449565714\n",
            "0.9995798206412997\n",
            "0.9995617151812339\n",
            "0.9995436292873503\n",
            "0.9995255636695939\n",
            "0.9995075190368519\n",
            "0.9994894960969268\n",
            "0.9994714955565098\n",
            "0.999453518121153\n",
            "0.9994355644952445\n",
            "0.9994176353819801\n",
            "0.9993997314833383\n",
            "0.9993818535000526\n",
            "0.9993640021315865\n",
            "0.9993461780761062\n",
            "0.9993283820304552\n",
            "0.9993106146901276\n",
            "0.9992928767492433\n",
            "0.9992751689005208\n",
            "0.9992574918352523\n",
            "0.9992398462432777\n",
            "0.9992222328129592\n",
            "0.999204652231156\n",
            "0.9991871051831983\n",
            "0.9991695923528626\n",
            "0.9991521144223463\n",
            "0.9991346720722426\n",
            "0.9991172659815155\n",
            "0.999099896827475\n",
            "0.9990825652857523\n",
            "0.9990652720302747\n",
            "0.9990480177332417\n",
            "0.9990308030650998\n",
            "0.9990136286945188\n",
            "0.998996495288367\n",
            "0.9989794035116869\n",
            "0.9989623540276716\n",
            "0.9989453474976409\n",
            "0.9989283845810162\n",
            "0.9989114659352984\n",
            "0.9988945922160433\n",
            "0.9988777640768378\n",
            "0.9988609821692772\n",
            "0.9988442471429413\n",
            "0.9988275596453714\n",
            "0.9988109203220469\n",
            "0.9987943298163626\n",
            "0.9987777887696057\n",
            "0.9987612978209326\n",
            "0.9987448576073469\n",
            "0.998728468763676\n",
            "0.9987121319225496\n",
            "0.9986958477143763\n",
            "0.9986796167673219\n",
            "0.9986634397072872\n",
            "0.9986473171578861\n",
            "0.9986312497404234\n",
            "0.9986152380738731\n",
            "0.9985992827748567\n",
            "0.9985833844576216\n",
            "0.9985675437340199\n",
            "0.9985517612134867\n",
            "0.9985360375030189\n",
            "0.9985203732071543\n",
            "0.9985047689279505\n",
            "0.998489225264964\n",
            "0.9984737428152294\n",
            "0.9984583221732387\n",
            "0.998442963930921\n",
            "0.998427668677622\n",
            "0.9984124370000834\n",
            "0.9983972694824231\n",
            "0.9983821667061152\n",
            "0.9983671292499695\n",
            "0.9983521576901124\n",
            "0.9983372525999666\n",
            "0.998322414550232\n",
            "0.9983076441088657\n",
            "0.9982929418410633\n",
            "0.9982783083092394\n",
            "0.9982637440730081\n",
            "0.9982492496891647\n",
            "0.9982348257116664\n",
            "0.998220472691614\n",
            "0.9982061911772324\n",
            "0.9981919817138534\n",
            "0.9981778448438963\n",
            "0.99816378110685\n",
            "0.998149791039255\n",
            "0.9981358751746854\n",
            "0.9981220340437308\n",
            "0.9981082681739786\n",
            "0.9980945780899967\n",
            "0.9980809643133155\n",
            "0.9980674273624113\n",
            "0.998053967752688\n",
            "0.9980405859964608\n",
            "0.9980272826029389\n",
            "0.9980140580782088\n",
            "0.998000912925217\n",
            "0.9979878476437541\n",
            "0.9979748627304381\n",
            "0.9979619586786977\n",
            "0.9979491359787563\n",
            "0.997936395117616\n",
            "0.9979237365790411\n",
            "0.9979111608435429\n",
            "0.9978986683883637\n",
            "0.997886259687461\n",
            "0.997873935211492\n",
            "0.9978616954277987\n",
            "0.9978495408003921\n",
            "0.9978374717899376\n",
            "0.9978254888537395\n",
            "0.9978135924457264\n",
            "0.9978017830164367\n",
            "0.9977900610130037\n",
            "0.9977784268791412\n",
            "0.9977668810551291\n",
            "0.9977554239777994\n",
            "0.9977440560805217\n",
            "0.99773277779319\n",
            "0.9977215895422078\n",
            "0.9977104917504752\n",
            "0.9976994848373754\n",
            "0.9976885692187603\n",
            "0.9976777453069383\n",
            "0.9976670135106606\n",
            "0.9976563742351079\n",
            "0.997645827881878\n",
            "0.9976353748489724\n",
            "0.9976250155307842\n",
            "0.9976147503180852\n",
            "0.9976045795980137\n",
            "0.9975945037540618\n",
            "0.9975845231660635\n",
            "0.997574638210183\n",
            "0.997564849258902\n",
            "0.9975551566810088\n",
            "0.9975455608415859\n",
            "0.9975360621019989\n",
            "0.9975266608198848\n",
            "0.9975173573491414\n",
            "0.9975081520399153\n",
            "0.9974990452385913\n",
            "0.9974900372877816\n",
            "0.997481128526315\n",
            "0.9974723192892261\n",
            "0.9974636099077447\n",
            "0.9974550007092864\n",
            "0.9974464920174407\n",
            "0.9974380841519624\n",
            "0.997429777428761\n",
            "0.9974215721598907\n",
            "0.9974134686535406\n",
            "0.9974054672140261\n",
            "0.997397568141778\n",
            "0.9973897717333343\n",
            "0.9973820782813301\n",
            "0.9973744880744894\n",
            "0.9973670013976154\n",
            "0.9973596185315823\n",
            "0.9973523397533259\n",
            "0.9973451653358358\n",
            "0.9973380955481466\n",
            "0.997331130655329\n",
            "0.997324270918483\n",
            "0.9973175165947283\n",
            "0.9973108679371979\n",
            "0.9973043251950289\n",
            "0.9972978886133558\n",
            "0.9972915584333023\n",
            "0.9972853348919746\n",
            "0.9972792182224536\n",
            "0.9972732086537878\n",
            "0.9972673064109863\n",
            "0.9972615117150121\n",
            "0.9972558247827752\n",
            "0.9972502458271258\n",
            "0.9972447750568482\n",
            "0.9972394126766538\n",
            "0.9972341588871755\n",
            "0.9972290138849611\n",
            "0.9972239778624674\n",
            "0.9972190510080547\n",
            "0.9972142335059805\n",
            "0.9972095255363942\n",
            "0.9972049272753317\n",
            "0.9972004388947096\n",
            "0.9971960605623204\n",
            "0.9971917924418273\n",
            "0.9971876346927593\n",
            "0.997183587470506\n",
            "0.9971796509263131\n",
            "0.9971758252072783\n",
            "0.9971721104563457\n",
            "0.9971685068123025\n",
            "0.9971650144097745\n",
            "0.9971616333792215\n",
            "0.9971583638469343\n",
            "0.9971552059350302\n",
            "0.997152159761449\n",
            "0.9971492254399508\n",
            "0.9971464030801107\n",
            "0.9971436927873172\n",
            "0.9971410946627677\n",
            "0.9971386088034664\n",
            "0.9971362353022205\n",
            "0.9971339742476384\n",
            "0.9971318257241261\n",
            "0.9971297898118852\n",
            "0.9971278665869101\n",
            "0.9971260561209863\n",
            "0.9971243584816872\n",
            "0.9971227737323736\n",
            "0.9971213019321901\n",
            "0.9971199431360646\n",
            "0.9971186973947059\n",
            "0.9971175647546026\n",
            "0.9971165452580214\n",
            "0.997115638943006\n",
            "0.9971148458433761\n",
            "0.9971141659887257\n",
            "0.9971135994044232\n",
            "0.99711314611161\n",
            "0.9971128061271997\n",
            "0.9971125794638783\n",
            "0.9971124661301033\n",
            "0.9971124661301033\n",
            "0.9971125794638783\n",
            "0.9971128061271997\n",
            "0.99711314611161\n",
            "0.9971135994044232\n",
            "0.9971141659887257\n",
            "0.9971148458433761\n",
            "0.997115638943006\n",
            "0.9971165452580214\n",
            "0.9971175647546026\n",
            "0.9971186973947059\n",
            "0.9971199431360646\n",
            "0.9971213019321901\n",
            "0.9971227737323736\n",
            "0.9971243584816872\n",
            "0.9971260561209863\n",
            "0.9971278665869101\n",
            "0.9971297898118852\n",
            "0.9971318257241261\n",
            "0.9971339742476384\n",
            "0.9971362353022205\n",
            "0.9971386088034664\n",
            "0.9971410946627677\n",
            "0.9971436927873172\n",
            "0.9971464030801107\n",
            "0.9971492254399508\n",
            "0.997152159761449\n",
            "0.9971552059350302\n",
            "0.9971583638469343\n",
            "0.9971616333792215\n",
            "0.9971650144097745\n",
            "0.9971685068123025\n",
            "0.9971721104563457\n",
            "0.9971758252072783\n",
            "0.9971796509263131\n",
            "0.997183587470506\n",
            "0.9971876346927593\n",
            "0.9971917924418273\n",
            "0.9971960605623204\n",
            "0.9972004388947096\n",
            "0.9972049272753317\n",
            "0.9972095255363942\n",
            "0.9972142335059805\n",
            "0.9972190510080547\n",
            "0.9972239778624674\n",
            "0.9972290138849611\n",
            "0.9972341588871755\n",
            "0.9972394126766538\n",
            "0.9972447750568482\n",
            "0.9972502458271258\n",
            "0.9972558247827752\n",
            "0.9972615117150121\n",
            "0.9972673064109863\n",
            "0.9972732086537878\n",
            "0.9972792182224536\n",
            "0.9972853348919746\n",
            "0.9972915584333023\n",
            "0.9972978886133558\n",
            "0.9973043251950289\n",
            "0.9973108679371979\n",
            "0.9973175165947283\n",
            "0.997324270918483\n",
            "0.997331130655329\n",
            "0.9973380955481466\n",
            "0.9973451653358358\n",
            "0.9973523397533259\n",
            "0.9973596185315823\n",
            "0.9973670013976154\n",
            "0.9973744880744894\n",
            "0.9973820782813301\n",
            "0.9973897717333343\n",
            "0.997397568141778\n",
            "0.9974054672140261\n",
            "0.9974134686535406\n",
            "0.9974215721598907\n",
            "0.997429777428761\n",
            "0.9974380841519624\n",
            "0.9974464920174407\n",
            "0.9974550007092864\n",
            "0.9974636099077447\n",
            "0.9974723192892261\n",
            "0.997481128526315\n",
            "0.9974900372877816\n",
            "0.9974990452385913\n",
            "0.9975081520399153\n",
            "0.9975173573491414\n",
            "0.9975266608198848\n",
            "0.9975360621019989\n",
            "0.9975455608415859\n",
            "0.9975551566810088\n",
            "0.997564849258902\n",
            "0.997574638210183\n",
            "0.9975845231660635\n",
            "0.9975945037540618\n",
            "0.9976045795980137\n",
            "0.9976147503180852\n",
            "0.9976250155307842\n",
            "0.9976353748489724\n",
            "0.997645827881878\n",
            "0.9976563742351079\n",
            "0.9976670135106606\n",
            "0.9976777453069383\n",
            "0.9976885692187603\n",
            "0.9976994848373754\n",
            "0.9977104917504752\n",
            "0.9977215895422078\n",
            "0.99773277779319\n",
            "0.9977440560805217\n",
            "0.9977554239777994\n",
            "0.9977668810551291\n",
            "0.9977784268791412\n",
            "0.9977900610130037\n",
            "0.9978017830164367\n",
            "0.9978135924457264\n",
            "0.9978254888537395\n",
            "0.9978374717899376\n",
            "0.9978495408003921\n",
            "0.9978616954277987\n",
            "0.997873935211492\n",
            "0.997886259687461\n",
            "0.9978986683883637\n",
            "0.9979111608435429\n",
            "0.9979237365790411\n",
            "0.997936395117616\n",
            "0.9979491359787563\n",
            "0.9979619586786977\n",
            "0.9979748627304381\n",
            "0.9979878476437541\n",
            "0.998000912925217\n",
            "0.9980140580782088\n",
            "0.9980272826029389\n",
            "0.9980405859964608\n",
            "0.998053967752688\n",
            "0.9980674273624113\n",
            "0.9980809643133155\n",
            "0.9980945780899967\n",
            "0.9981082681739786\n",
            "0.9981220340437308\n",
            "0.9981358751746854\n",
            "0.998149791039255\n",
            "0.99816378110685\n",
            "0.9981778448438963\n",
            "0.9981919817138534\n",
            "0.9982061911772324\n",
            "0.998220472691614\n",
            "0.9982348257116664\n",
            "0.9982492496891647\n",
            "0.9982637440730081\n",
            "0.9982783083092394\n",
            "0.9982929418410633\n",
            "0.9983076441088657\n",
            "0.998322414550232\n",
            "0.9983372525999666\n",
            "0.9983521576901124\n",
            "0.9983671292499695\n",
            "0.9983821667061152\n",
            "0.9983972694824231\n",
            "0.9984124370000834\n",
            "0.998427668677622\n",
            "0.998442963930921\n",
            "0.9984583221732387\n",
            "0.9984737428152294\n",
            "0.998489225264964\n",
            "0.9985047689279505\n",
            "0.9985203732071543\n",
            "0.9985360375030189\n",
            "0.9985517612134867\n",
            "0.9985675437340199\n",
            "0.9985833844576216\n",
            "0.9985992827748567\n",
            "0.9986152380738731\n",
            "0.9986312497404234\n",
            "0.9986473171578861\n",
            "0.9986634397072872\n",
            "0.9986796167673219\n",
            "0.9986958477143763\n",
            "0.9987121319225496\n",
            "0.998728468763676\n",
            "0.9987448576073469\n",
            "0.9987612978209326\n",
            "0.9987777887696057\n",
            "0.9987943298163626\n",
            "0.9988109203220469\n",
            "0.9988275596453714\n",
            "0.9988442471429413\n",
            "0.9988609821692772\n",
            "0.9988777640768378\n",
            "0.9988945922160433\n",
            "0.9989114659352984\n",
            "0.9989283845810162\n",
            "0.9989453474976409\n",
            "0.9989623540276716\n",
            "0.9989794035116869\n",
            "0.998996495288367\n",
            "0.9990136286945188\n",
            "0.9990308030650998\n",
            "0.9990480177332417\n",
            "0.9990652720302747\n",
            "0.9990825652857523\n",
            "0.999099896827475\n",
            "0.9991172659815155\n",
            "0.9991346720722426\n",
            "0.9991521144223463\n",
            "0.9991695923528626\n",
            "0.9991871051831983\n",
            "0.999204652231156\n",
            "0.9992222328129592\n",
            "0.9992398462432777\n",
            "0.9992574918352523\n",
            "0.9992751689005208\n",
            "0.9992928767492433\n",
            "0.9993106146901276\n",
            "0.9993283820304552\n",
            "0.9993461780761062\n",
            "0.9993640021315865\n",
            "0.9993818535000526\n",
            "0.9993997314833383\n",
            "0.9994176353819801\n",
            "0.9994355644952445\n",
            "0.999453518121153\n",
            "0.9994714955565098\n",
            "0.9994894960969268\n",
            "0.9995075190368519\n",
            "0.9995255636695939\n",
            "0.9995436292873503\n",
            "0.9995617151812339\n",
            "0.9995798206412997\n",
            "0.9995979449565714\n",
            "0.9996160874150691\n",
            "0.9996342473038362\n",
            "0.9996524239089665\n",
            "0.9996706165156314\n",
            "0.9996888244081076\n",
            "0.9997070468698042\n",
            "0.9997252831832906\n",
            "0.9997435326303236\n",
            "0.9997617944918754\n",
            "0.9997800680481614\n",
            "0.9997983525786678\n",
            "0.9998166473621792\n",
            "0.9998349516768075\n",
            "0.9998532648000187\n",
            "0.9998715860086619\n",
            "0.9998899145789971\n",
            "0.9999082497867235\n",
            "0.9999265909070076\n",
            "0.9999449372145116\n",
            "0.999963287983422\n",
            "0.9999816424874781\n",
            "1.0\n"
          ],
          "name": "stdout"
        }
      ]
    },
    {
      "cell_type": "code",
      "metadata": {
        "id": "pyo7RQa8BEZh"
      },
      "source": [
        "q1_list_cc_forward = [(i * 1e6) for i in q1_list_forward]"
      ],
      "execution_count": null,
      "outputs": []
    },
    {
      "cell_type": "code",
      "metadata": {
        "colab": {
          "base_uri": "https://localhost:8080/",
          "height": 282
        },
        "id": "Qyujxv18y1Bv",
        "outputId": "f5f971a8-82c7-496d-dc3f-30486f0162fc"
      },
      "source": [
        "plt.plot(t_forward, q1_list_cc_forward)"
      ],
      "execution_count": null,
      "outputs": [
        {
          "output_type": "execute_result",
          "data": {
            "text/plain": [
              "[<matplotlib.lines.Line2D at 0x7f1e965a50f0>]"
            ]
          },
          "metadata": {
            "tags": []
          },
          "execution_count": 16
        },
        {
          "output_type": "display_data",
          "data": {
            "image/png": "[encoded data removed]",
            "text/plain": [
              "<Figure size 432x288 with 1 Axes>"
            ]
          },
          "metadata": {
            "tags": [],
            "needs_background": "light"
          }
        }
      ]
    },
    {
      "cell_type": "code",
      "metadata": {
        "id": "u8SW8CsGBDsP"
      },
      "source": [
        ""
      ],
      "execution_count": null,
      "outputs": []
    },
    {
      "cell_type": "code",
      "metadata": {
        "colab": {
          "base_uri": "https://localhost:8080/",
          "height": 265
        },
        "id": "1d9RIWHg-2Wv",
        "outputId": "cbf25329-2396-440a-ca73-321b9eacfada"
      },
      "source": [
        "fig = plt.figure()\n",
        "ax = fig.add_subplot(1, 1, 1)\n",
        "ax.scatter(t_forward, q1_list_cc_forward)\n",
        "fig.show()"
      ],
      "execution_count": null,
      "outputs": [
        {
          "output_type": "display_data",
          "data": {
            "image/png": "[encoded data removed]",
            "text/plain": [
              "<Figure size 432x288 with 1 Axes>"
            ]
          },
          "metadata": {
            "tags": [],
            "needs_background": "light"
          }
        }
      ]
    },
    {
      "cell_type": "code",
      "metadata": {
        "id": "qFZtB3rxUpoV"
      },
      "source": [
        "q = Symbol('q')\n",
        "n_diam = 0.0081235\n",
        "temp = 273 + 20\n",
        "p_up = 101325 \n",
        "n_ratio = 0.1022\n",
        "h_ratio = 1.4"
      ],
      "execution_count": null,
      "outputs": []
    },
    {
      "cell_type": "code",
      "metadata": {
        "id": "QfNxdFkVE4v6"
      },
      "source": [
        "t_back = np.linspace(np.pi, 2*np.pi, 500)\n",
        "sin_list = np.sin(t_back)\n",
        "p2_list_out = [(1000*i + 101325 ) for i in sin_list]\n",
        "q1_list_back = []"
      ],
      "execution_count": null,
      "outputs": []
    },
    {
      "cell_type": "code",
      "metadata": {
        "id": "rda1YGDvE7dk"
      },
      "source": [
        "for p2 in p2_list_out:\n",
        "  q1_out = newton_raphson(f(q, n_diam, temp, p_up, p2, n_ratio, h_ratio, False), q1=0.0009)\n",
        "  q1_list_back.append(q1_out)"
      ],
      "execution_count": null,
      "outputs": []
    },
    {
      "cell_type": "code",
      "metadata": {
        "id": "wcSOvgNoE71D"
      },
      "source": [
        "q1_list_cc_back = [-(i * 1e6) for i in q1_list_back]\n"
      ],
      "execution_count": null,
      "outputs": []
    },
    {
      "cell_type": "code",
      "metadata": {
        "colab": {
          "base_uri": "https://localhost:8080/",
          "height": 265
        },
        "id": "p7s9iAx3FA01",
        "outputId": "2a215e8e-5db1-4cd0-be9c-698ba3f78942"
      },
      "source": [
        "fig = plt.figure()\n",
        "ax = fig.add_subplot(1, 1, 1)\n",
        "ax.scatter(t_back, q1_list_cc_back)\n",
        "fig.show()"
      ],
      "execution_count": null,
      "outputs": [
        {
          "output_type": "display_data",
          "data": {
            "image/png": "[encoded data removed]",
            "text/plain": [
              "<Figure size 432x288 with 1 Axes>"
            ]
          },
          "metadata": {
            "tags": [],
            "needs_background": "light"
          }
        }
      ]
    },
    {
      "cell_type": "code",
      "metadata": {
        "colab": {
          "base_uri": "https://localhost:8080/",
          "height": 265
        },
        "id": "dqPStBOcGTZS",
        "outputId": "797cc0d0-e1cf-445c-9b26-d57ca88e7630"
      },
      "source": [
        "fig = plt.figure()\n",
        "ax = fig.add_subplot(1, 1, 1)\n",
        "ax.scatter(t_forward, q1_list_cc_forward, c='red', label='forward')\n",
        "ax.scatter(t_back, q1_list_cc_back, c='blue', label='back')\n",
        "ax.legend(loc='upper left')\n",
        "fig.show()"
      ],
      "execution_count": null,
      "outputs": [
        {
          "output_type": "display_data",
          "data": {
            "image/png": "[encoded data removed]",
            "text/plain": [
              "<Figure size 432x288 with 1 Axes>"
            ]
          },
          "metadata": {
            "tags": [],
            "needs_background": "light"
          }
        }
      ]
    },
    {
      "cell_type": "code",
      "metadata": {
        "id": "RkteFNOdSQp0"
      },
      "source": [
        ""
      ],
      "execution_count": null,
      "outputs": []
    }
  ]
}