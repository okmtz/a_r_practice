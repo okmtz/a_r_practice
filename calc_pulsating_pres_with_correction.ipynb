{
  "nbformat": 4,
  "nbformat_minor": 0,
  "metadata": {
    "colab": {
      "name": "calc_pulsating_pres_with_correction.ipynb",
      "provenance": [],
      "authorship_tag": "ABX9TyOFO05hUcZao7xMFEb2irEQ",
      "include_colab_link": true
    },
    "kernelspec": {
      "name": "python3",
      "display_name": "Python 3"
    }
  },
  "cells": [
    {
      "cell_type": "markdown",
      "metadata": {
        "id": "view-in-github",
        "colab_type": "text"
      },
      "source": [
        "<a href=\"https://colab.research.google.com/github/souken-b/a_r_practice/blob/master/calc_pulsating_pres_with_correction.ipynb\" target=\"_parent\"><img src=\"https://colab.research.google.com/assets/colab-badge.svg\" alt=\"Open In Colab\"/></a>"
      ]
    },
    {
      "cell_type": "code",
      "metadata": {
        "id": "OTvBXplrOguv"
      },
      "source": [
        "import numpy as np\n",
        "from scipy.integrate import odeint\n",
        "import matplotlib.pyplot as plt\n",
        "%matplotlib inline"
      ],
      "execution_count": 406,
      "outputs": []
    },
    {
      "cell_type": "code",
      "metadata": {
        "id": "ntdYmjfiPeg-"
      },
      "source": [
        "T = 0.8 # 周期\n",
        "n = 1000000 # 分割数\n",
        "#############\n",
        "# n_diam = 0.008123 # オリフィス直径(m)\n",
        "# D0 = 0.0254 # 円管の直径(m)\n",
        "# A = 5.1823028331816915 * 1e-05 # オリフィスの断面積(m2)\n",
        "# A0 = np.pi * ((D0 / 2) ** 2) # 円管の断面積(m2)\n",
        "# L0 = 0.12 # t=0での空気室高さ(m)\n",
        "# # L0 = 0.15830000000000002 # ピストンロッドの長さ(m)\n",
        "# L = 0.08 # ピストン変位振幅(m)\n",
        "# d_ratio = n_diam / D0 # 絞り直径比\n",
        "# n_ratio = d_ratio ** 2 # 絞り面積比\n",
        "##############\n",
        "n_diam = 0.035 # オリフィス直径(m)\n",
        "D0 = 0.5 # 円管の直径(m)\n",
        "A = 0.00096211275 # オリフィスの断面積(m2)\n",
        "A0 = 0.19242255 # 円管の断面積(m2)\n",
        "L0 = 0.625 # t=0での空気室高さ(m)\n",
        "L = 0.032 # ピストン変位振幅(m)\n",
        "d_ratio = n_diam / D0 # 絞り直径比\n",
        "n_ratio = d_ratio ** 2 # 絞り面積比\n",
        "###############\n",
        "h_ratio = 1.4 # 比熱比\n",
        "p_air = 101325 # 大気圧(pa)\n",
        "dens_air = 1.225 # 空気の密度(kg/m3)\n",
        "p_0 = p_air + 10 # 圧力の初期値"
      ],
      "execution_count": 407,
      "outputs": []
    },
    {
      "cell_type": "code",
      "metadata": {
        "id": "kTzNqJeWPgfC"
      },
      "source": [
        "L_h = 0.0151319\n",
        "L_h_0 = 0.625\n",
        "phase_diff = 0"
      ],
      "execution_count": 408,
      "outputs": []
    },
    {
      "cell_type": "code",
      "metadata": {
        "id": "AIMFyF6pPjE-"
      },
      "source": [
        "def c_ci(d_ratio)->'非圧縮性の縮流係数':\n",
        "  # flow coefficient\n",
        "  f_coef = 0.598 - 0.003 * (d_ratio ** 2) + 0.404 * (d_ratio ** 4)\n",
        "  return (f_coef / ((1 + (d_ratio ** 4) * (f_coef ** 2)) ** (1/2)))"
      ],
      "execution_count": 409,
      "outputs": []
    },
    {
      "cell_type": "code",
      "metadata": {
        "id": "3dPhTdc8PlL7"
      },
      "source": [
        "def force_ci(c_ci)->'非圧縮性力欠損係数':\n",
        "  return ((1 / c_ci) - (1 / (2 * (c_ci ** 2))))"
      ],
      "execution_count": 410,
      "outputs": []
    },
    {
      "cell_type": "code",
      "metadata": {
        "id": "sijNQCc3PnPD"
      },
      "source": [
        "def c_c(f_ci_c, p_up, p_down, h_ratio)->'圧縮性の縮流係数':\n",
        "  p_ratio = p_up / p_down\n",
        "  h_ratio_rev = 1/ h_ratio\n",
        "  return ((1 / (2 * f_ci_c)) * (p_ratio ** h_ratio_rev) * (1 - (1 - ((2 * f_ci_c * (1 - h_ratio_rev)) * (1 - (1 / p_ratio)) / (1- (p_ratio) ** (h_ratio_rev - 1))))  ** (1/2)))"
      ],
      "execution_count": 411,
      "outputs": []
    },
    {
      "cell_type": "code",
      "metadata": {
        "id": "GnmsuXcxfgaI"
      },
      "source": [
        "def forward_calc_p_delta(p0_prev, p0_current, p_air, f_ci_c, h, dens0_prev, dens0_current, dens_air, dV0dt, dV02dt2, A, A0, h_ratio):\n",
        "  if (p0_prev > 0):\n",
        "    c_c_c_prev = c_c(f_ci_c, p0_prev, p_air, h_ratio)\n",
        "    flow_prev = forward_flow(c_c_c_prev, A, p0_prev, p_air, dens0_prev, dens_air, h_ratio)\n",
        "  else:\n",
        "    c_c_c_prev = c_c(f_ci_c, p0_prev, p_air, h_ratio)\n",
        "    flow_prev = (-1) * back_flow(c_c_c_prev, A, p_air, p0_prev, dens_air, h_ratio)\n",
        "  \n",
        "  c_c_c_current = c_c(f_ci_c, p0_current, p_air, h_ratio)\n",
        "  flow_current = forward_flow(c_c_c_current, A, p0_current, p_air, dens0_current, dens_air, h_ratio)\n",
        "  p_delta = forward_delta_p0(dens0_current, dens_air, dV0dt, dV02dt2, flow_prev, flow_current, h, A0)\n",
        "  return p_delta\n"
      ],
      "execution_count": 412,
      "outputs": []
    },
    {
      "cell_type": "code",
      "metadata": {
        "id": "LxeXmjoglY3F"
      },
      "source": [
        "def back_calc_p_delta(p0_prev, p0_current, p_air, f_ci_c, h, dens0_prev, dens0_current, dens_air, dV0dt, dV02dt2, A, A0, h_ratio):\n",
        "  if (p0_prev > p_air):\n",
        "      c_c_c_prev = c_c(f_ci_c, p0_prev, p_air, h_ratio)\n",
        "      flow_prev = forward_flow(c_c_c_prev, A, p0_prev, p_air, dens0_prev, dens_air, h_ratio)\n",
        "  else:\n",
        "    c_c_c_prev = c_c(f_ci_c, p_air, p0_prev, h_ratio)\n",
        "    flow_prev = (-1) * back_flow(c_c_c_prev, A, p_air, p0_prev, dens_air, h_ratio)\n",
        "\n",
        "  c_c_c_current = c_c(f_ci_c, p_air, p0_current, h_ratio)\n",
        "  flow_current = (-1) * back_flow(c_c_c_current, A, p_air, p0_current, dens_air, h_ratio)\n",
        "  p_delta = back_delta_p0(dens0_current, dens_air, dV0dt, dV02dt2, flow_prev, flow_current, h, A0, h_ratio)\n",
        "  return p_delta"
      ],
      "execution_count": 413,
      "outputs": []
    },
    {
      "cell_type": "code",
      "metadata": {
        "id": "z-0Z8AJtPpGK"
      },
      "source": [
        "def runge_kutta(t_interval, t_list, c_freq, p_list, V0_list, dV0dt_list, dV02dt2_list, p_air, dens_air, T, d_ratio, h_ratio, A0, L, L0, A, f_ci_c, L_h, L_h_0, phase_diff, p_delta_list):\n",
        "  t = t_list\n",
        "  p = p_list\n",
        "  V0 = V0_list\n",
        "  p_delta = p_delta_list\n",
        "  dV0dt = dV0dt_list\n",
        "  dV02dt2 = dV02dt2_list\n",
        "  h = t_interval\n",
        "\n",
        "\n",
        "  # 方程式を解くための反復計算\n",
        "  for i in range(len(t) -1):\n",
        "    const_args = [p_air, dens_air, T, d_ratio, h_ratio, V0[i], dV0dt[i], A, f_ci_c]\n",
        "    k_1 = h * dpdt(p[i], t[i], *const_args)\n",
        "    k_2 = h * dpdt(p[i] + k_1 / 2 , t[i] + h/2, *const_args)\n",
        "    k_3 = h * dpdt(p[i] + k_2 / 2 , t[i] + h/2, *const_args)\n",
        "    k_4 = h * dpdt(p[i] + k_3, t[i] + h, *const_args)\n",
        "    p[i+1] = p[i] + 1/6 * (k_1 + 2 * k_2 + 2 * k_3 + k_4)\n",
        "\n",
        "    # V0[i+1] =  (L0 + L*np.cos(c_freq * t[i])) * A0\n",
        "    V0[i+1] = (L_h_0 + L_h * np.cos(c_freq * t[i] + phase_diff)) * A0\n",
        "    dV0dt[i+1] = ((-1) * c_freq * L_h * np.sin(c_freq * t[i] + phase_diff)) * A0\n",
        "    dV02dt2[i+1] = ((-1) * ((c_freq) ** 2) * L_h * np.cos(c_freq * t[i] + phase_diff)) * A0\n",
        "\n",
        "    dens0_prev = dens_air * ((p[i] / p_air) ** (1/h_ratio))\n",
        "    dens0_current = dens_air * ((p[i+1] / p_air) ** (1/h_ratio))\n",
        "\n",
        "    if (p[i+1] > p_air):\n",
        "      p_delta[i+1] = forward_calc_p_delta(p[i], p[i+1], p_air, f_ci_c, h, dens0_prev, dens0_current, dens_air, dV0dt[i+1], dV02dt2[i+1], A, A0, h_ratio)\n",
        "    else:\n",
        "      p_delta[i+1] = back_calc_p_delta(p[i], p[i+1], p_air, f_ci_c, h, dens0_prev, dens0_current, dens_air, dV0dt[i+1], dV02dt2[i+1], A, A0, h_ratio)\n",
        "\n",
        "    if (np.isnan(p[i+1])):\n",
        "      break\n",
        "\n",
        "  return t, p, V0, p_delta"
      ],
      "execution_count": 414,
      "outputs": []
    },
    {
      "cell_type": "code",
      "metadata": {
        "id": "bU7zKPA2Pueo"
      },
      "source": [
        "def calc_pressure(n, T, p_0, p_air, dens_air, d_ratio, h_ratio, A0, L, L0, A, f_ci_c, L_h, L_h_0, phase_diff):\n",
        "  h = T / n\n",
        "  t = np.arange(0, 4*T, h)\n",
        "  p = np.empty(len(t))\n",
        "  p[0] = p_0\n",
        "  V0 = np.empty(len(t))\n",
        "  dV0dt = np.empty(len(t))\n",
        "  V0[0] = (L_h_0 + L_h)*A0\n",
        "  dV0dt[0] = 0\n",
        "  dV02dt2 = np.empty(len(t))\n",
        "  dV02dt2[0] = 0\n",
        "  p_delta = np.empty(len(t))\n",
        "  p_delta[0] = 0\n",
        "\n",
        "  c_freq = 2 * np.pi / T\n",
        "  t, p, V0, p_delta = runge_kutta(h, t, c_freq, p, V0, dV0dt, dV02dt2, p_air, dens_air, T, d_ratio, h_ratio, A0, L, L0, A, f_ci_c, L_h, L_h_0, phase_diff, p_delta)\n",
        "  \n",
        "  return t, p, V0, p_delta"
      ],
      "execution_count": 415,
      "outputs": []
    },
    {
      "cell_type": "code",
      "metadata": {
        "id": "Z72zLcvvPzaB"
      },
      "source": [
        "def forward_flow(c_c_c, A, p_up, p_air, dens_up, dens_air, h_ratio)->'押出流量':\n",
        "  h_ratio_rev = 1 / h_ratio\n",
        "  return  (dens_up / dens_air) * (c_c_c * A  * ((p_up / p_air) ** (-1 * h_ratio_rev)) * (((2 / (1 - h_ratio_rev)) * (p_up / dens_up) * (1 - (p_up / p_air) ** (h_ratio_rev - 1))) ** (1 / 2)))"
      ],
      "execution_count": 416,
      "outputs": []
    },
    {
      "cell_type": "code",
      "metadata": {
        "id": "RzdCfC6AP1ZA"
      },
      "source": [
        "def back_flow(c_c_c, A, p_air, p_down, dens_air, h_ratio)->'吸込流量':\n",
        "  h_ratio_rev = 1 / h_ratio\n",
        "  return  c_c_c * A  * ((p_air / p_down) ** (-1 * h_ratio_rev)) * (((2 / (1 - h_ratio_rev)) * (p_air / dens_air) * (1 - (p_air / p_down) ** (h_ratio_rev - 1))) ** (1 / 2))"
      ],
      "execution_count": 417,
      "outputs": []
    },
    {
      "cell_type": "code",
      "metadata": {
        "id": "jNmcIpSbYsXB"
      },
      "source": [
        "def forward_delta_p0(dens0, dens_air, dV0dt, dV02dt2, flow_prev, flow_current, delta_t, A0)->'押出圧力補正':\n",
        "  flow_diff = (flow_current - flow_prev) / delta_t\n",
        "  delta_p0 = - ((dens0 ** 2) / (A0 ** 2)) * (dV02dt2 + (dens_air / dens0) * flow_diff + (1 / 2) * (dV0dt + (1 / dens0) * (dens_air * flow_current)) * dV0dt)\n",
        "  # print(delta_p0)\n",
        "  return delta_p0"
      ],
      "execution_count": 418,
      "outputs": []
    },
    {
      "cell_type": "code",
      "metadata": {
        "id": "KxRfA7_DadlD"
      },
      "source": [
        "def back_delta_p0(dens0, dens_air, dV0dt, dV02dt2, flow_prev, flow_current, delta_t, A0, h_ratio)->'吸込圧力補正':\n",
        "  flow_diff = (flow_current - flow_prev) / delta_t\n",
        "  delta_p0 = - ((dens0 ** 2) / (A0 ** 2)) * (dV02dt2 + (7/2) * ((dens_air / dens0) ** h_ratio) * (flow_diff) - (5/2) * (dens_air / dens0) * (flow_diff) + (1/2) * (dV0dt + (1 / 2) * (7 * ((dens_air / dens0) ** (h_ratio + 1)) - 5) * ( 1 / dens0) * (dens_air * flow_current)) * dV0dt)\n",
        "  return delta_p0"
      ],
      "execution_count": 419,
      "outputs": []
    },
    {
      "cell_type": "code",
      "metadata": {
        "id": "ViICSmmGP3L0"
      },
      "source": [
        "def dpdt(p0, t, p_air, dens_air, T, d_ratio, h_ratio, V0, dV0dt, A, f_ci_c)->'圧力変化':\n",
        "  # 円振動数ω\n",
        "  c_freq = 2 * np.pi / T\n",
        "  h_ratio_rev = 1 / h_ratio\n",
        "  dens0 = dens_air * ((p0 / p_air) ** (h_ratio_rev))\n",
        "  if (p0 > p_air):\n",
        "    c_c_c = c_c(f_ci_c, p0, p_air, h_ratio)\n",
        "    flow = forward_flow(c_c_c, A, p0, p_air, dens0, dens_air, h_ratio)\n",
        "    dpdt = (-7/5) * p0 * ((dV0dt / V0) + ((dens_air / dens0) * (flow / V0)))\n",
        "  else:\n",
        "    c_c_c = c_c(f_ci_c, p_air, p0, h_ratio)\n",
        "    flow = back_flow(c_c_c, A, p_air, p0, dens_air, h_ratio)\n",
        "    dpdt = (-7/5) * p0 * ((dV0dt / V0) + (((dens_air / dens0) ** h_ratio) * (((-1) * flow) / V0)))\n",
        "  return dpdt"
      ],
      "execution_count": 420,
      "outputs": []
    },
    {
      "cell_type": "code",
      "metadata": {
        "colab": {
          "base_uri": "https://localhost:8080/"
        },
        "id": "UEJ9HAalP5lx",
        "outputId": "30195368-ed1e-4bef-c38c-02669ff7b40e"
      },
      "source": [
        "c_ci_c = c_ci(d_ratio)\n",
        "f_ci_c = force_ci(c_ci_c)\n",
        "result = calc_pressure(n, T, p_0, p_air, dens_air, d_ratio, h_ratio, A0, L, L0, A, f_ci_c, L_h, L_h_0, phase_diff)\n",
        "t_list, p_list, v0_list, p_delta_list = result"
      ],
      "execution_count": 421,
      "outputs": [
        {
          "output_type": "stream",
          "text": [
            "/usr/local/lib/python3.6/dist-packages/ipykernel_launcher.py:3: RuntimeWarning: invalid value encountered in double_scalars\n",
            "  This is separate from the ipykernel package so we can avoid doing imports until\n"
          ],
          "name": "stderr"
        }
      ]
    },
    {
      "cell_type": "code",
      "metadata": {
        "id": "lO5g1XWNP77s"
      },
      "source": [
        "p_air_list = [p_air] * len(p_list)\n",
        "p_list_diff = p_list - p_air_list"
      ],
      "execution_count": 422,
      "outputs": []
    },
    {
      "cell_type": "code",
      "metadata": {
        "colab": {
          "base_uri": "https://localhost:8080/",
          "height": 265
        },
        "id": "PNX19UT2P9_D",
        "outputId": "86420b46-72b2-4621-b142-2a89fe242c26"
      },
      "source": [
        "fig = plt.figure()\n",
        "ax = fig.add_subplot(1, 1, 1)\n",
        "# ax.scatter(t_list, p_list, c='blue')\n",
        "# ax.scatter(t_list, p_air_list, c='green')\n",
        "ax.scatter(t_list, p_list_diff, c='red')\n",
        "plt.show()"
      ],
      "execution_count": 423,
      "outputs": [
        {
          "output_type": "display_data",
          "data": {
            "image/png": "[encoded data removed]",
            "text/plain": [
              "<Figure size 432x288 with 1 Axes>"
            ]
          },
          "metadata": {
            "tags": [],
            "needs_background": "light"
          }
        }
      ]
    },
    {
      "cell_type": "code",
      "metadata": {
        "colab": {
          "base_uri": "https://localhost:8080/",
          "height": 265
        },
        "id": "nawkel6TsMA4",
        "outputId": "c364545b-d65c-4d5c-d948-dbec062527f8"
      },
      "source": [
        "fig = plt.figure()\n",
        "ax = fig.add_subplot(1, 1, 1)\n",
        "ax.scatter(t_list, p_delta_list, c='red')\n",
        "plt.ylim(-50, 50)\n",
        "plt.show()"
      ],
      "execution_count": 428,
      "outputs": [
        {
          "output_type": "display_data",
          "data": {
            "image/png": "[encoded data removed]",
            "text/plain": [
              "<Figure size 432x288 with 1 Axes>"
            ]
          },
          "metadata": {
            "tags": [],
            "needs_background": "light"
          }
        }
      ]
    },
    {
      "cell_type": "code",
      "metadata": {
        "id": "cMp80Kfnz9bv"
      },
      "source": [
        ""
      ],
      "execution_count": null,
      "outputs": []
    }
  ]
}